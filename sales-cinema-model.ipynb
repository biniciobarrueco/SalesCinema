{
 "cells": [
  {
   "cell_type": "code",
   "execution_count": null,
   "metadata": {},
   "outputs": [],
   "source": [
    "import pandas as pd\n",
    "from sklearn.preprocessing import StandardScaler, OneHotEncoder\n",
    "import seaborn as sns\n",
    "import numpy as np\n",
    "import matplotlib.pyplot as plt"
   ]
  },
  {
   "cell_type": "code",
   "execution_count": null,
   "metadata": {},
   "outputs": [],
   "source": [
    "df = pd.read_csv(\"cinemaTicket_Ref.csv\")\n",
    "df.head()"
   ]
  },
  {
   "cell_type": "code",
   "execution_count": null,
   "metadata": {},
   "outputs": [],
   "source": [
    "# Creating a new ID code for cinemas and film code\n",
    "\n",
    "df[\"unique_id\"] = df[[\"film_code\", \"cinema_code\", \"date\"\n",
    "                      ]].apply(lambda row: \"_\".join(row.values.astype(str)),\n",
    "                               axis=1)\n",
    "# Move to first column the column \"Unique id\"\n",
    "df = df[[\"unique_id\"] + [col for col in df.columns if col != \"unique_id\"]]\n",
    "\n"
   ]
  },
  {
   "attachments": {},
   "cell_type": "markdown",
   "metadata": {},
   "source": [
    "##### I) Data expLoration\n"
   ]
  },
  {
   "cell_type": "code",
   "execution_count": null,
   "metadata": {},
   "outputs": [],
   "source": [
    "df.info()\n",
    "#The date column has object type, we gonna change this type"
   ]
  },
  {
   "cell_type": "code",
   "execution_count": null,
   "metadata": {},
   "outputs": [],
   "source": [
    "df['date'] = pd.to_datetime(df[\"date\"], dayfirst=True, format=r'%Y-%m-%d')\n"
   ]
  },
  {
   "cell_type": "code",
   "execution_count": null,
   "metadata": {},
   "outputs": [],
   "source": [
    "df.head()"
   ]
  },
  {
   "cell_type": "code",
   "execution_count": null,
   "metadata": {},
   "outputs": [],
   "source": [
    "def nulls(df, df_name):\n",
    "\n",
    "    if df.isnull().values.any() == False:\n",
    "        print(f\"NULLS: There isn't null values in:{df_name}\")\n",
    "\n",
    "    else:\n",
    "        print(\"NULLS: There is nulls values\")\n",
    "        null_columns = df.columns[df.isnull().any()].tolist()\n",
    "\n",
    "        for column in null_columns:\n",
    "            nulls = df[column].isna().sum()\n",
    "            percent = round((nulls / len(df)), 4) * 100\n",
    "            print(\n",
    "                f\" [{column}] has:  nulls number: {nulls} | nulls % : {percent}%\"\n",
    "            )\n",
    "\n",
    "\n",
    "def duplicates(df, column):\n",
    "    if df.duplicated(subset=[column]).sum() != 0:\n",
    "        a = df.duplicated(subset=[column]).sum()\n",
    "        print(f\"There are '{a}' duplicated values:\")\n",
    "\n",
    "\n",
    "def outliers(df):\n",
    "    \n",
    "    \n",
    "    \n",
    "    pass\n"
   ]
  },
  {
   "cell_type": "code",
   "execution_count": 1,
   "metadata": {},
   "outputs": [
    {
     "name": "stdout",
     "output_type": "stream",
     "text": [
      "(array([6], dtype=int64),)\n"
     ]
    }
   ],
   "source": [
    "# Import necessary libraries\n",
    "from pyod import LMDD\n",
    "import numpy as np\n",
    "\n",
    "# Create a dataset of points\n",
    "X = np.array([[1, 2], [2, 3], [3, 1], [1, 1], [10, 10], [11, 11], [12, 12]])\n",
    "\n",
    "# Fit an LMS model to the data\n",
    "lms = LMDD().fit(X)\n",
    "\n",
    "# Identify the outliers\n",
    "outliers = lms.predict(X) == 1\n",
    "\n",
    "# Print the indices of the identified outliers\n",
    "print(np.where(outliers))"
   ]
  },
  {
   "attachments": {},
   "cell_type": "markdown",
   "metadata": {},
   "source": [
    "##### 1) Preprocessing\n"
   ]
  }
 ],
 "metadata": {
  "kernelspec": {
   "display_name": "Python 3",
   "language": "python",
   "name": "python3"
  },
  "language_info": {
   "codemirror_mode": {
    "name": "ipython",
    "version": 3
   },
   "file_extension": ".py",
   "mimetype": "text/x-python",
   "name": "python",
   "nbconvert_exporter": "python",
   "pygments_lexer": "ipython3",
   "version": "3.10.9 (tags/v3.10.9:1dd9be6, Dec  6 2022, 20:01:21) [MSC v.1934 64 bit (AMD64)]"
  },
  "orig_nbformat": 4,
  "vscode": {
   "interpreter": {
    "hash": "f515bf980fa92181d8306b2bdbdf8e4f0e556f3150e3e5070f96cb94d0c77c91"
   }
  }
 },
 "nbformat": 4,
 "nbformat_minor": 2
}
